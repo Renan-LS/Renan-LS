{
  "nbformat": 4,
  "nbformat_minor": 0,
  "metadata": {
    "colab": {
      "provenance": [],
      "toc_visible": true,
      "authorship_tag": "ABX9TyPO63CCe5TG6cSCgbFo0icT",
      "include_colab_link": true
    },
    "kernelspec": {
      "name": "python3",
      "display_name": "Python 3"
    },
    "language_info": {
      "name": "python"
    }
  },
  "cells": [
    {
      "cell_type": "markdown",
      "metadata": {
        "id": "view-in-github",
        "colab_type": "text"
      },
      "source": [
        "<a href=\"https://colab.research.google.com/github/Renan-LS/Renan-LS/blob/main/E_gov_Analytics.ipynb\" target=\"_parent\"><img src=\"https://colab.research.google.com/assets/colab-badge.svg\" alt=\"Open In Colab\"/></a>"
      ]
    },
    {
      "cell_type": "markdown",
      "source": [
        "### **PROJETO: Como aumento do PIB e gastos do governo impactam os setores de saúde e educação?**\n",
        "\n",
        "\n"
      ],
      "metadata": {
        "id": "kAiCozMLg6ym"
      }
    },
    {
      "cell_type": "markdown",
      "source": [
        "Definição do problema:\n",
        "O papel do governo no crescimento econômico tem sido um problema desde há muito\n",
        "tempo, com a percepção de que, para um desenvolvimento sustentável e uma produção\n",
        "eficiente, o papel do governo nas políticas econômicas deve ser reduzido.\n",
        "\n",
        "Dado este cenário fiscal, é necessário identificar a relação entre o PIB (Produto InternoBruto) e as despesas do governo nos setores de saúde e educação e como se relacionam com o crescimento do PIB na economia de um país.\n",
        "\n",
        "\n",
        "\n",
        "\n",
        "Para este trabalho não vamos considerar um país específico a fim de evitar qualquer tipo de polêmica ou viés. Nosso objetivo aqui é estudar e aplicar  nálise de dados. Portanto, este projeto se aplica a qualquer país.\n",
        "\n",
        "Principais objetivos:\n",
        "\n",
        "\t1. Em que ano o país teve um alto crescimento do PIB Per Capita?\n",
        "\t2. Qual ano teve as maiores despesas com saúde?\n",
        "\t3. Qual ano teve os maiores gastos com educação?\n",
        "\t4. Como a receita do governo se correlaciona com a despesa do governo?\n",
        "\t5. Como a educação e a saúde se correlacionam com o crescimento do PIB?\n",
        "\t6. Como os gastos do governo com educação e saúde afetam o crescimento do PIB?\n",
        "\t7. Com base na análise quais são as recomendações aos governantes e gestores?"
      ],
      "metadata": {
        "id": "b_LUDPdQg-is"
      }
    },
    {
      "cell_type": "markdown",
      "source": [
        "Fonte de dados:"
      ],
      "metadata": {
        "id": "miD0FZqRhAvN"
      }
    },
    {
      "cell_type": "markdown",
      "source": [
        "Dicionário de dados:"
      ],
      "metadata": {
        "id": "hWgaQKL6hCak"
      }
    },
    {
      "cell_type": "code",
      "execution_count": null,
      "metadata": {
        "colab": {
          "base_uri": "https://localhost:8080/"
        },
        "id": "2Ef4e3nOTW-U",
        "outputId": "f577f55d-1e46-4327-9008-b0b6142bb931"
      },
      "outputs": [
        {
          "output_type": "stream",
          "name": "stdout",
          "text": [
            "/content\n"
          ]
        }
      ],
      "source": []
    }
  ]
}