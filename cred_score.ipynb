{
  "nbformat": 4,
  "nbformat_minor": 0,
  "metadata": {
    "colab": {
      "provenance": [],
      "authorship_tag": "ABX9TyPdhQbqW/7m93cHp/Dckmlk",
      "include_colab_link": true
    },
    "kernelspec": {
      "name": "python3",
      "display_name": "Python 3"
    },
    "language_info": {
      "name": "python"
    }
  },
  "cells": [
    {
      "cell_type": "markdown",
      "metadata": {
        "id": "view-in-github",
        "colab_type": "text"
      },
      "source": [
        "<a href=\"https://colab.research.google.com/github/Renan-LS/Renan-LS/blob/main/cred_score.ipynb\" target=\"_parent\"><img src=\"https://colab.research.google.com/assets/colab-badge.svg\" alt=\"Open In Colab\"/></a>"
      ]
    },
    {
      "cell_type": "markdown",
      "source": [
        "Descrição das Features:\n",
        "\n",
        " ● idade: A idade do cliente\n",
        "\n",
        " ● numero_de_dependentes: O número de pessoas dependentes do cliente.\n",
        "\n",
        " ● salario_mensal: Salário mensal do cliente.\n",
        "\n",
        " ● numero_emprestimos_imobiliarios: Quantidade de empréstimos imobiliários que o cliente possui em aberto.\n",
        "\n",
        " ● util_linhas_inseguras: Quanto que o cliente está usando, relativamente ao limite dele, \n",
        "de linhas de crédito que não são seguradas por qualquer bem do tomador e.g: imoveis, carros etc.\n",
        "\n",
        " ● vezes_passou_de_30_59_dias: Número de vezes que o cliente atrasou, entre 30 e 59 dias, o pagamento de um empréstimo.\n",
        " ● numero_de_vezes_que_passou_60_89_dias: Número de vezes que o cliente atrasou, entre 60 e 89 dias, o pagamento de um empréstimo\n",
        " ● numero_vezes_passou_90_dias: Número de vezes que o tomador passou mais de 90 dias em atraso.\n",
        "\n",
        " ● razao_debito: Razão entre as dívidas e o patrimônio do tomador. razão débito = Dividas/Patrimônio\n",
        "\n",
        " ● numero_linhas_crdto_aberto: Número de empréstimos em aberto pelo cliente.\n",
        "\n",
        "\n",
        " ● Saída: 1 - Inadimplente / 0 - Adimplente\n",
        "\n",
        "Tratamentos exigidos:\n",
        "- Coluna idade com registros = 0 (deletados devido a qtde ser relativamente baixa)\n",
        "- Coluna numero_de_dependentes com valores NaN (deletados devido a qtde ser relativamente baixa)\n",
        "\n",
        "\n",
        "\n",
        "-- CONTINUAR DAQUI\n",
        "  -> Dados desbalanceados : utilizar modelos que trabalham melhor com eles\n",
        "  -> Outliers.? Resolvi eliminar somente absurdo (idade = 0) e valores NaN\n",
        "  ->STARDARTIZATION escolhido para reescalonar os dados\n",
        "  \n"
      ],
      "metadata": {
        "id": "Ftc51akmcUs1"
      }
    },
    {
      "cell_type": "code",
      "source": [
        "import pandas as pd\n",
        "import numpy as np\n",
        "import seaborn as sns\n",
        "import matplotlib.pyplot as plt\n",
        "import plotly.express as px\n",
        "import sklearn as sk\n",
        "import warnings\n",
        "warnings.filterwarnings(\"ignore\")\n",
        "from sklearn.metrics import plot_roc_curve\n",
        "from sklearn.model_selection import StratifiedKFold\n",
        "from yellowbrick.classifier import ConfusionMatrix\n",
        "from sklearn.preprocessing import StandardScaler\n",
        "from sklearn.model_selection import train_test_split\n",
        "from sklearn.model_selection import GridSearchCV\n",
        "from sklearn.ensemble import RandomForestClassifier\n",
        "from sklearn.tree import DecisionTreeClassifier\n",
        "from sklearn.linear_model import LogisticRegression\n",
        "from sklearn.metrics import accuracy_score,classification_report\n",
        "from sklearn.model_selection import cross_val_score, KFold\n",
        "from sklearn.model_selection import cross_val_predict\n",
        "import pickle\n"
      ],
      "metadata": {
        "id": "Y-Y97MCZCn_0"
      },
      "execution_count": 56,
      "outputs": []
    },
    {
      "cell_type": "markdown",
      "source": [
        "## Pré-Processamento"
      ],
      "metadata": {
        "id": "DxtAph-p5T6w"
      }
    },
    {
      "cell_type": "code",
      "source": [
        "cred_score_train = pd.read_csv('/content/treino.csv')\n"
      ],
      "metadata": {
        "id": "nHjOgL5XD1g6"
      },
      "execution_count": 26,
      "outputs": []
    },
    {
      "cell_type": "code",
      "source": [
        "pd.options.display.float_format = '{:,.2f}'.format"
      ],
      "metadata": {
        "id": "pw_uHyyatDYf"
      },
      "execution_count": 27,
      "outputs": []
    },
    {
      "cell_type": "code",
      "source": [
        "cred_score_train.info()"
      ],
      "metadata": {
        "id": "Al38QOjhErAG"
      },
      "execution_count": null,
      "outputs": []
    },
    {
      "cell_type": "code",
      "source": [
        "cred_score_train.describe()"
      ],
      "metadata": {
        "colab": {
          "base_uri": "https://localhost:8080/",
          "height": 364
        },
        "id": "btlBZMKrsBHa",
        "outputId": "0a7101dc-1332-4b81-a1fc-d09990a53568"
      },
      "execution_count": null,
      "outputs": [
        {
          "output_type": "execute_result",
          "data": {
            "text/plain": [
              "       inadimplente  util_linhas_inseguras      idade  \\\n",
              "count    107,121.00             107,121.00 107,121.00   \n",
              "mean           0.07                   5.74      52.05   \n",
              "std            0.25                 251.79      14.59   \n",
              "min            0.00                   0.00      21.00   \n",
              "25%            0.00                   0.03      41.00   \n",
              "50%            0.00                   0.16      52.00   \n",
              "75%            0.00                   0.57      62.00   \n",
              "max            1.00              50,708.00     107.00   \n",
              "\n",
              "       vezes_passou_de_30_59_dias  razao_debito  salario_mensal  \\\n",
              "count                  107,121.00    107,121.00      107,121.00   \n",
              "mean                         0.41        335.09        6,419.27   \n",
              "std                          4.04      1,945.54       12,156.23   \n",
              "min                          0.00          0.00            0.00   \n",
              "25%                          0.00          0.17        3,820.00   \n",
              "50%                          0.00          0.36        5,400.00   \n",
              "75%                          0.00          0.76        7,500.00   \n",
              "max                         98.00    329,664.00    3,008,750.00   \n",
              "\n",
              "       numero_linhas_crdto_aberto  numero_vezes_passou_90_dias  \\\n",
              "count                  107,121.00                   107,121.00   \n",
              "mean                         8.52                         0.25   \n",
              "std                          5.14                         4.01   \n",
              "min                          0.00                         0.00   \n",
              "25%                          5.00                         0.00   \n",
              "50%                          8.00                         0.00   \n",
              "75%                         11.00                         0.00   \n",
              "max                         58.00                        98.00   \n",
              "\n",
              "       numero_emprestimos_imobiliarios  numero_de_vezes_que_passou_60_89_dias  \\\n",
              "count                       107,121.00                             107,121.00   \n",
              "mean                              1.03                                   0.23   \n",
              "std                               1.14                                   4.00   \n",
              "min                               0.00                                   0.00   \n",
              "25%                               0.00                                   0.00   \n",
              "50%                               1.00                                   0.00   \n",
              "75%                               2.00                                   0.00   \n",
              "max                              54.00                                  98.00   \n",
              "\n",
              "       numero_de_dependentes  \n",
              "count             107,121.00  \n",
              "mean                    0.76  \n",
              "std                     1.11  \n",
              "min                     0.00  \n",
              "25%                     0.00  \n",
              "50%                     0.00  \n",
              "75%                     1.00  \n",
              "max                    20.00  "
            ],
            "text/html": [
              "\n",
              "  <div id=\"df-32adc6df-6b44-4591-a8b7-3fefb0a44bd2\">\n",
              "    <div class=\"colab-df-container\">\n",
              "      <div>\n",
              "<style scoped>\n",
              "    .dataframe tbody tr th:only-of-type {\n",
              "        vertical-align: middle;\n",
              "    }\n",
              "\n",
              "    .dataframe tbody tr th {\n",
              "        vertical-align: top;\n",
              "    }\n",
              "\n",
              "    .dataframe thead th {\n",
              "        text-align: right;\n",
              "    }\n",
              "</style>\n",
              "<table border=\"1\" class=\"dataframe\">\n",
              "  <thead>\n",
              "    <tr style=\"text-align: right;\">\n",
              "      <th></th>\n",
              "      <th>inadimplente</th>\n",
              "      <th>util_linhas_inseguras</th>\n",
              "      <th>idade</th>\n",
              "      <th>vezes_passou_de_30_59_dias</th>\n",
              "      <th>razao_debito</th>\n",
              "      <th>salario_mensal</th>\n",
              "      <th>numero_linhas_crdto_aberto</th>\n",
              "      <th>numero_vezes_passou_90_dias</th>\n",
              "      <th>numero_emprestimos_imobiliarios</th>\n",
              "      <th>numero_de_vezes_que_passou_60_89_dias</th>\n",
              "      <th>numero_de_dependentes</th>\n",
              "    </tr>\n",
              "  </thead>\n",
              "  <tbody>\n",
              "    <tr>\n",
              "      <th>count</th>\n",
              "      <td>107,121.00</td>\n",
              "      <td>107,121.00</td>\n",
              "      <td>107,121.00</td>\n",
              "      <td>107,121.00</td>\n",
              "      <td>107,121.00</td>\n",
              "      <td>107,121.00</td>\n",
              "      <td>107,121.00</td>\n",
              "      <td>107,121.00</td>\n",
              "      <td>107,121.00</td>\n",
              "      <td>107,121.00</td>\n",
              "      <td>107,121.00</td>\n",
              "    </tr>\n",
              "    <tr>\n",
              "      <th>mean</th>\n",
              "      <td>0.07</td>\n",
              "      <td>5.74</td>\n",
              "      <td>52.05</td>\n",
              "      <td>0.41</td>\n",
              "      <td>335.09</td>\n",
              "      <td>6,419.27</td>\n",
              "      <td>8.52</td>\n",
              "      <td>0.25</td>\n",
              "      <td>1.03</td>\n",
              "      <td>0.23</td>\n",
              "      <td>0.76</td>\n",
              "    </tr>\n",
              "    <tr>\n",
              "      <th>std</th>\n",
              "      <td>0.25</td>\n",
              "      <td>251.79</td>\n",
              "      <td>14.59</td>\n",
              "      <td>4.04</td>\n",
              "      <td>1,945.54</td>\n",
              "      <td>12,156.23</td>\n",
              "      <td>5.14</td>\n",
              "      <td>4.01</td>\n",
              "      <td>1.14</td>\n",
              "      <td>4.00</td>\n",
              "      <td>1.11</td>\n",
              "    </tr>\n",
              "    <tr>\n",
              "      <th>min</th>\n",
              "      <td>0.00</td>\n",
              "      <td>0.00</td>\n",
              "      <td>21.00</td>\n",
              "      <td>0.00</td>\n",
              "      <td>0.00</td>\n",
              "      <td>0.00</td>\n",
              "      <td>0.00</td>\n",
              "      <td>0.00</td>\n",
              "      <td>0.00</td>\n",
              "      <td>0.00</td>\n",
              "      <td>0.00</td>\n",
              "    </tr>\n",
              "    <tr>\n",
              "      <th>25%</th>\n",
              "      <td>0.00</td>\n",
              "      <td>0.03</td>\n",
              "      <td>41.00</td>\n",
              "      <td>0.00</td>\n",
              "      <td>0.17</td>\n",
              "      <td>3,820.00</td>\n",
              "      <td>5.00</td>\n",
              "      <td>0.00</td>\n",
              "      <td>0.00</td>\n",
              "      <td>0.00</td>\n",
              "      <td>0.00</td>\n",
              "    </tr>\n",
              "    <tr>\n",
              "      <th>50%</th>\n",
              "      <td>0.00</td>\n",
              "      <td>0.16</td>\n",
              "      <td>52.00</td>\n",
              "      <td>0.00</td>\n",
              "      <td>0.36</td>\n",
              "      <td>5,400.00</td>\n",
              "      <td>8.00</td>\n",
              "      <td>0.00</td>\n",
              "      <td>1.00</td>\n",
              "      <td>0.00</td>\n",
              "      <td>0.00</td>\n",
              "    </tr>\n",
              "    <tr>\n",
              "      <th>75%</th>\n",
              "      <td>0.00</td>\n",
              "      <td>0.57</td>\n",
              "      <td>62.00</td>\n",
              "      <td>0.00</td>\n",
              "      <td>0.76</td>\n",
              "      <td>7,500.00</td>\n",
              "      <td>11.00</td>\n",
              "      <td>0.00</td>\n",
              "      <td>2.00</td>\n",
              "      <td>0.00</td>\n",
              "      <td>1.00</td>\n",
              "    </tr>\n",
              "    <tr>\n",
              "      <th>max</th>\n",
              "      <td>1.00</td>\n",
              "      <td>50,708.00</td>\n",
              "      <td>107.00</td>\n",
              "      <td>98.00</td>\n",
              "      <td>329,664.00</td>\n",
              "      <td>3,008,750.00</td>\n",
              "      <td>58.00</td>\n",
              "      <td>98.00</td>\n",
              "      <td>54.00</td>\n",
              "      <td>98.00</td>\n",
              "      <td>20.00</td>\n",
              "    </tr>\n",
              "  </tbody>\n",
              "</table>\n",
              "</div>\n",
              "      <button class=\"colab-df-convert\" onclick=\"convertToInteractive('df-32adc6df-6b44-4591-a8b7-3fefb0a44bd2')\"\n",
              "              title=\"Convert this dataframe to an interactive table.\"\n",
              "              style=\"display:none;\">\n",
              "        \n",
              "  <svg xmlns=\"http://www.w3.org/2000/svg\" height=\"24px\"viewBox=\"0 0 24 24\"\n",
              "       width=\"24px\">\n",
              "    <path d=\"M0 0h24v24H0V0z\" fill=\"none\"/>\n",
              "    <path d=\"M18.56 5.44l.94 2.06.94-2.06 2.06-.94-2.06-.94-.94-2.06-.94 2.06-2.06.94zm-11 1L8.5 8.5l.94-2.06 2.06-.94-2.06-.94L8.5 2.5l-.94 2.06-2.06.94zm10 10l.94 2.06.94-2.06 2.06-.94-2.06-.94-.94-2.06-.94 2.06-2.06.94z\"/><path d=\"M17.41 7.96l-1.37-1.37c-.4-.4-.92-.59-1.43-.59-.52 0-1.04.2-1.43.59L10.3 9.45l-7.72 7.72c-.78.78-.78 2.05 0 2.83L4 21.41c.39.39.9.59 1.41.59.51 0 1.02-.2 1.41-.59l7.78-7.78 2.81-2.81c.8-.78.8-2.07 0-2.86zM5.41 20L4 18.59l7.72-7.72 1.47 1.35L5.41 20z\"/>\n",
              "  </svg>\n",
              "      </button>\n",
              "      \n",
              "  <style>\n",
              "    .colab-df-container {\n",
              "      display:flex;\n",
              "      flex-wrap:wrap;\n",
              "      gap: 12px;\n",
              "    }\n",
              "\n",
              "    .colab-df-convert {\n",
              "      background-color: #E8F0FE;\n",
              "      border: none;\n",
              "      border-radius: 50%;\n",
              "      cursor: pointer;\n",
              "      display: none;\n",
              "      fill: #1967D2;\n",
              "      height: 32px;\n",
              "      padding: 0 0 0 0;\n",
              "      width: 32px;\n",
              "    }\n",
              "\n",
              "    .colab-df-convert:hover {\n",
              "      background-color: #E2EBFA;\n",
              "      box-shadow: 0px 1px 2px rgba(60, 64, 67, 0.3), 0px 1px 3px 1px rgba(60, 64, 67, 0.15);\n",
              "      fill: #174EA6;\n",
              "    }\n",
              "\n",
              "    [theme=dark] .colab-df-convert {\n",
              "      background-color: #3B4455;\n",
              "      fill: #D2E3FC;\n",
              "    }\n",
              "\n",
              "    [theme=dark] .colab-df-convert:hover {\n",
              "      background-color: #434B5C;\n",
              "      box-shadow: 0px 1px 3px 1px rgba(0, 0, 0, 0.15);\n",
              "      filter: drop-shadow(0px 1px 2px rgba(0, 0, 0, 0.3));\n",
              "      fill: #FFFFFF;\n",
              "    }\n",
              "  </style>\n",
              "\n",
              "      <script>\n",
              "        const buttonEl =\n",
              "          document.querySelector('#df-32adc6df-6b44-4591-a8b7-3fefb0a44bd2 button.colab-df-convert');\n",
              "        buttonEl.style.display =\n",
              "          google.colab.kernel.accessAllowed ? 'block' : 'none';\n",
              "\n",
              "        async function convertToInteractive(key) {\n",
              "          const element = document.querySelector('#df-32adc6df-6b44-4591-a8b7-3fefb0a44bd2');\n",
              "          const dataTable =\n",
              "            await google.colab.kernel.invokeFunction('convertToInteractive',\n",
              "                                                     [key], {});\n",
              "          if (!dataTable) return;\n",
              "\n",
              "          const docLinkHtml = 'Like what you see? Visit the ' +\n",
              "            '<a target=\"_blank\" href=https://colab.research.google.com/notebooks/data_table.ipynb>data table notebook</a>'\n",
              "            + ' to learn more about interactive tables.';\n",
              "          element.innerHTML = '';\n",
              "          dataTable['output_type'] = 'display_data';\n",
              "          await google.colab.output.renderOutput(dataTable, element);\n",
              "          const docLink = document.createElement('div');\n",
              "          docLink.innerHTML = docLinkHtml;\n",
              "          element.appendChild(docLink);\n",
              "        }\n",
              "      </script>\n",
              "    </div>\n",
              "  </div>\n",
              "  "
            ]
          },
          "metadata": {},
          "execution_count": 16
        }
      ]
    },
    {
      "cell_type": "code",
      "source": [
        "corr = cred_score_train.corr()\n",
        "sns.set(rc={'axes.facecolor':'white', 'figure.facecolor':'white'})\n",
        "plt.subplots(figsize=(12, 9))\n",
        "sns.heatmap(corr, vmax=.8,annot_kws={'size': 10}, annot=True, fmt='.2f')\n",
        "#matriz de correlaçao"
      ],
      "metadata": {
        "id": "CIYYkYQQqFms"
      },
      "execution_count": null,
      "outputs": []
    },
    {
      "cell_type": "code",
      "source": [
        "np.unique(cred_score_train['inadimplente'],return_counts=True) #Verificando a quantidade  de registro que existe na variável INADIMPLENTE\n",
        "#nota-se claramente que temos uma classe DESBALACEADA "
      ],
      "metadata": {
        "colab": {
          "base_uri": "https://localhost:8080/"
        },
        "id": "c7_VNfxHwmV1",
        "outputId": "473297a6-d2d7-4c26-c32f-1f33a3c1a03e"
      },
      "execution_count": 65,
      "outputs": [
        {
          "output_type": "execute_result",
          "data": {
            "text/plain": [
              "(array([0, 1]), array([102669,   7331]))"
            ]
          },
          "metadata": {},
          "execution_count": 65
        }
      ]
    },
    {
      "cell_type": "code",
      "source": [
        "sns.countplot(x = cred_score_train['inadimplente']); #demostrando de forma gráfica a observação anterior"
      ],
      "metadata": {
        "id": "F9eFQc3E0yFd"
      },
      "execution_count": null,
      "outputs": []
    },
    {
      "cell_type": "code",
      "source": [
        "cred_score_train.isnull().sum() #verificado a existencia de valores nulos gerando anomalias"
      ],
      "metadata": {
        "id": "2JUdSSGzzAEE",
        "colab": {
          "base_uri": "https://localhost:8080/"
        },
        "outputId": "3bea69a5-1755-452e-89fe-a6c90c31a36f"
      },
      "execution_count": 69,
      "outputs": [
        {
          "output_type": "execute_result",
          "data": {
            "text/plain": [
              "inadimplente                             0\n",
              "util_linhas_inseguras                    0\n",
              "idade                                    0\n",
              "vezes_passou_de_30_59_dias               0\n",
              "razao_debito                             0\n",
              "salario_mensal                           0\n",
              "numero_linhas_crdto_aberto               0\n",
              "numero_vezes_passou_90_dias              0\n",
              "numero_emprestimos_imobiliarios          0\n",
              "numero_de_vezes_que_passou_60_89_dias    0\n",
              "numero_de_dependentes                    0\n",
              "dtype: int64"
            ]
          },
          "metadata": {},
          "execution_count": 69
        }
      ]
    },
    {
      "cell_type": "code",
      "source": [
        "cred_score_train.dropna(subset =['numero_de_dependentes'] , inplace = True)\n",
        "#Dropando os registros cujo o Nº de dependentes é NaN, devido ao tamanho irrelevante \n",
        "\n",
        "mediana = cred_score_train['salario_mensal'].median()\n",
        "cred_score_train['salario_mensal'].fillna(value=mediana, inplace = True)\n",
        "#Alterando os valores NaN presente em salario_mensal e substituindo-os pela MEDIANA, devido a quantidade elevada de registros,\n",
        "#preferi NAO dropa-los"
      ],
      "metadata": {
        "id": "ZI1oxKyIbtTG"
      },
      "execution_count": 67,
      "outputs": []
    },
    {
      "cell_type": "code",
      "source": [
        "cred_score_train.drop(cred_score_train.loc[cred_score_train['idade'] <= 0].index, inplace=True) #dropando esses elementos\n",
        "#cred_score_train.loc[cred_score_train['idade'] <= 0] #localizando o registros que possuem essa anomalia\n",
        "#cred_score_train[cred_score_train['idade'] <= 0]\n",
        "#verificando as idades que são zeradas ou negativas \n",
        "#     TÉCNICAS PARA TRATAMENTO DE IDADE ZERADA:\n",
        "# -Apagar a coluna inteira ( se a anomalia for em grande parte dos registros da tabela)\n",
        "# -Apagar somente os registros com valores inconsistentes\n",
        "# -Preencher os valores incosistentes manualmente\n",
        "# -Preencher os valores faltantes com a media das idades, retirando as inconsistencias antes"
      ],
      "metadata": {
        "id": "bKYMMXXmTv5R"
      },
      "execution_count": 68,
      "outputs": []
    },
    {
      "cell_type": "code",
      "source": [
        "graf = px.scatter_matrix(cred_score_train,dimensions=['idade'])\n",
        "graf.show()\n",
        "#Verificado que existem amostras com idade = 0"
      ],
      "metadata": {
        "id": "Q30uouiF4I06"
      },
      "execution_count": null,
      "outputs": []
    },
    {
      "cell_type": "code",
      "source": [
        "#cred_score['idade'][cred_score['idade'] > 0].mean() #media de idade, desconsiderando os valores nulos na coluna idade"
      ],
      "metadata": {
        "id": "kn8a_QBSZCel"
      },
      "execution_count": null,
      "outputs": []
    },
    {
      "cell_type": "code",
      "source": [
        "#graf = px.scatter_matrix(cred_score_train,dimensions=['idade','salario_mensal','razao_debito'],color='inadimplente')\n",
        "#graf.show()"
      ],
      "metadata": {
        "id": "8RMzv8KVpkb_"
      },
      "execution_count": null,
      "outputs": []
    },
    {
      "cell_type": "code",
      "source": [
        "grafico = px.box(cred_score_train,y='numero_emprestimos_imobiliarios')\n",
        "grafico.show()"
      ],
      "metadata": {
        "id": "AjEMT9_WvF_x"
      },
      "execution_count": null,
      "outputs": []
    },
    {
      "cell_type": "code",
      "source": [
        "X_cred = cred_score_train.iloc[:,1:11].values\n",
        "Y_cred = cred_score_train.iloc[:,0].values\n",
        "#realizada divisão entre previsores e classes \n"
      ],
      "metadata": {
        "id": "FFF86HnNpAEi"
      },
      "execution_count": null,
      "outputs": []
    },
    {
      "cell_type": "code",
      "source": [
        "scaler_cred = StandardScaler()\n",
        "X_cred = scaler_cred.fit_transform(X_cred)\n",
        "#realizado o reescalonamento dos valores(Padronização)"
      ],
      "metadata": {
        "id": "_8QqVfREw8A0"
      },
      "execution_count": null,
      "outputs": []
    },
    {
      "cell_type": "code",
      "source": [
        "X_cred_train, X_cred_test, Y_cred_train, Y_cred_test = train_test_split(X_cred, Y_cred, test_size=0.2, random_state = 0)\n",
        "#realizando a divisão na razão 80/20 entre os dados de treino e teste."
      ],
      "metadata": {
        "id": "ZBpBPg1S0MLs"
      },
      "execution_count": null,
      "outputs": []
    },
    {
      "cell_type": "code",
      "source": [
        "with open('cred_score_variables.pkl',mode = 'wb') as f:\n",
        "  pickle.dump([X_cred_train, X_cred_test, Y_cred_train, Y_cred_test],f)\n",
        "#variáveis de teste e treinamentos salvas em \"disco\""
      ],
      "metadata": {
        "id": "ZKQjyk59OAlA"
      },
      "execution_count": null,
      "outputs": []
    },
    {
      "cell_type": "markdown",
      "source": [
        "## Teste de classificadores"
      ],
      "metadata": {
        "id": "11oMQBbW4bZO"
      }
    },
    {
      "cell_type": "markdown",
      "source": [
        "**RANDOM FOREST**"
      ],
      "metadata": {
        "id": "6D-iQ6uZ5-in"
      }
    },
    {
      "cell_type": "code",
      "source": [
        "with open('cred_score_variables.pkl','rb') as f:\n",
        "  X_cred_train, X_cred_test, Y_cred_train, Y_cred_test = pickle.load(f)"
      ],
      "metadata": {
        "id": "uhPYqYV9H7CA"
      },
      "execution_count": 110,
      "outputs": []
    },
    {
      "cell_type": "code",
      "source": [
        "random_forest_cred = RandomForestClassifier(random_state = 2)\n",
        "random_forest_cred.fit(X_cred_train,Y_cred_train)"
      ],
      "metadata": {
        "colab": {
          "base_uri": "https://localhost:8080/"
        },
        "id": "yt6vEbpaA23g",
        "outputId": "11778862-0ba5-4404-b46d-316cedd700c0"
      },
      "execution_count": 111,
      "outputs": [
        {
          "output_type": "execute_result",
          "data": {
            "text/plain": [
              "RandomForestClassifier(random_state=2)"
            ]
          },
          "metadata": {},
          "execution_count": 111
        }
      ]
    },
    {
      "cell_type": "code",
      "source": [
        "previews = random_forest_cred.predict(X_cred_test)"
      ],
      "metadata": {
        "id": "6zK0JWHXA3A3"
      },
      "execution_count": 126,
      "outputs": []
    },
    {
      "cell_type": "code",
      "source": [
        "accuracy_score(Y_cred_test,previews)"
      ],
      "metadata": {
        "colab": {
          "base_uri": "https://localhost:8080/"
        },
        "id": "wqGbeB1cDrLO",
        "outputId": "d28d4886-d7d4-40d8-829f-d99e260dd8c4"
      },
      "execution_count": 127,
      "outputs": [
        {
          "output_type": "execute_result",
          "data": {
            "text/plain": [
              "0.9338156359393233"
            ]
          },
          "metadata": {},
          "execution_count": 127
        }
      ]
    },
    {
      "cell_type": "code",
      "source": [
        "print(classification_report(Y_cred_test,previews))"
      ],
      "metadata": {
        "colab": {
          "base_uri": "https://localhost:8080/"
        },
        "id": "TWA5FErI6FYv",
        "outputId": "a2d76498-2bc3-454d-d04c-60f0ec7374c1"
      },
      "execution_count": 114,
      "outputs": [
        {
          "output_type": "stream",
          "name": "stdout",
          "text": [
            "              precision    recall  f1-score   support\n",
            "\n",
            "           0       0.94      0.99      0.97     19956\n",
            "           1       0.55      0.18      0.28      1469\n",
            "\n",
            "    accuracy                           0.93     21425\n",
            "   macro avg       0.75      0.59      0.62     21425\n",
            "weighted avg       0.92      0.93      0.92     21425\n",
            "\n"
          ]
        }
      ]
    },
    {
      "cell_type": "code",
      "source": [
        "# cm = ConfusionMatrix(random_forest_cred)\n",
        "# cm.fit(X_cred_train,Y_cred_train)\n",
        "# cm.score(X_cred_test,Y_cred_test)\n",
        "plot_roc_curve(random_forest_cred,X_cred_test,Y_cred_test)"
      ],
      "metadata": {
        "id": "qNp-d84JFCeI",
        "colab": {
          "base_uri": "https://localhost:8080/",
          "height": 387
        },
        "outputId": "ec63ed9a-3aca-49c4-cc62-f30fbcea5c0d"
      },
      "execution_count": 128,
      "outputs": [
        {
          "output_type": "execute_result",
          "data": {
            "text/plain": [
              "<sklearn.metrics._plot.roc_curve.RocCurveDisplay at 0x7fbb6a9cde20>"
            ]
          },
          "metadata": {},
          "execution_count": 128
        },
        {
          "output_type": "display_data",
          "data": {
            "text/plain": [
              "<Figure size 576x396 with 1 Axes>"
            ],
            "image/png": "[encoded data removed]"
          },
          "metadata": {}
        }
      ]
    },
    {
      "cell_type": "markdown",
      "source": [
        "**DECISION TREE**\n"
      ],
      "metadata": {
        "id": "sW62PnSVPu63"
      }
    },
    {
      "cell_type": "code",
      "source": [
        "with open('cred_score_variables.pkl','rb') as f:\n",
        "  X_cred_train, X_cred_test, Y_cred_train, Y_cred_test = pickle.load(f)"
      ],
      "metadata": {
        "id": "715e-V6aTCEm"
      },
      "execution_count": 115,
      "outputs": []
    },
    {
      "cell_type": "code",
      "source": [
        "tree_cred = DecisionTreeClassifier(random_state = 0)\n",
        "tree_cred.fit(X_cred_train,Y_cred_train)"
      ],
      "metadata": {
        "colab": {
          "base_uri": "https://localhost:8080/"
        },
        "id": "w-w3SvnqWQEZ",
        "outputId": "9c61661e-4489-457c-9111-047376efecf1"
      },
      "execution_count": 116,
      "outputs": [
        {
          "output_type": "execute_result",
          "data": {
            "text/plain": [
              "DecisionTreeClassifier(random_state=0)"
            ]
          },
          "metadata": {},
          "execution_count": 116
        }
      ]
    },
    {
      "cell_type": "code",
      "source": [
        "previews = tree_cred.predict(X_cred_test)\n"
      ],
      "metadata": {
        "id": "uZemwtW1WQIX"
      },
      "execution_count": 129,
      "outputs": []
    },
    {
      "cell_type": "code",
      "source": [
        "accuracy_score(Y_cred_test,previews)"
      ],
      "metadata": {
        "colab": {
          "base_uri": "https://localhost:8080/"
        },
        "id": "gwwBwznzXQeS",
        "outputId": "0a51f537-a78f-49b8-d3ef-5bc9c1b81df9"
      },
      "execution_count": 130,
      "outputs": [
        {
          "output_type": "execute_result",
          "data": {
            "text/plain": [
              "0.8968961493582264"
            ]
          },
          "metadata": {},
          "execution_count": 130
        }
      ]
    },
    {
      "cell_type": "code",
      "source": [
        "print(classification_report(Y_cred_test,previews))"
      ],
      "metadata": {
        "colab": {
          "base_uri": "https://localhost:8080/"
        },
        "id": "Cc-9gLoQXiAf",
        "outputId": "e96acc9c-8ba6-43c3-ac03-addc65351055"
      },
      "execution_count": 131,
      "outputs": [
        {
          "output_type": "stream",
          "name": "stdout",
          "text": [
            "              precision    recall  f1-score   support\n",
            "\n",
            "           0       0.95      0.94      0.94     19956\n",
            "           1       0.26      0.28      0.27      1469\n",
            "\n",
            "    accuracy                           0.90     21425\n",
            "   macro avg       0.61      0.61      0.61     21425\n",
            "weighted avg       0.90      0.90      0.90     21425\n",
            "\n"
          ]
        }
      ]
    },
    {
      "cell_type": "code",
      "source": [
        "# cm = ConfusionMatrix(random_forest_cred)\n",
        "# cm.fit(X_cred_train,Y_cred_train)\n",
        "# cm.score(X_cred_test,Y_cred_test)\n",
        "plot_roc_curve(tree_cred,X_cred_test,Y_cred_test)"
      ],
      "metadata": {
        "id": "gy3DkH7cXs6v",
        "colab": {
          "base_uri": "https://localhost:8080/",
          "height": 387
        },
        "outputId": "4fd20f36-8644-4dac-fd53-756bf4f54d28"
      },
      "execution_count": 132,
      "outputs": [
        {
          "output_type": "execute_result",
          "data": {
            "text/plain": [
              "<sklearn.metrics._plot.roc_curve.RocCurveDisplay at 0x7fbb6a6e0460>"
            ]
          },
          "metadata": {},
          "execution_count": 132
        },
        {
          "output_type": "display_data",
          "data": {
            "text/plain": [
              "<Figure size 576x396 with 1 Axes>"
            ],
            "image/png": "[encoded data removed]"
          },
          "metadata": {}
        }
      ]
    },
    {
      "cell_type": "markdown",
      "source": [
        "**LOGISTICAL REGRESSION**"
      ],
      "metadata": {
        "id": "qgBrnaftX8x5"
      }
    },
    {
      "cell_type": "code",
      "source": [
        "with open('cred_score_variables.pkl','rb') as f:\n",
        "  X_cred_train, X_cred_test, Y_cred_train, Y_cred_test = pickle.load(f)"
      ],
      "metadata": {
        "id": "h0R9h1DpX_fP"
      },
      "execution_count": 120,
      "outputs": []
    },
    {
      "cell_type": "code",
      "source": [
        "logistic_cred = LogisticRegression(random_state = 1)\n",
        "logistic_cred.fit(X_cred_train,Y_cred_train)"
      ],
      "metadata": {
        "colab": {
          "base_uri": "https://localhost:8080/"
        },
        "id": "DZ5WEkW63H4z",
        "outputId": "22cacb66-0043-4e55-c42d-ef5b44228950"
      },
      "execution_count": 121,
      "outputs": [
        {
          "output_type": "execute_result",
          "data": {
            "text/plain": [
              "LogisticRegression(random_state=1)"
            ]
          },
          "metadata": {},
          "execution_count": 121
        }
      ]
    },
    {
      "cell_type": "code",
      "source": [
        "logistic_cred.intercept_"
      ],
      "metadata": {
        "id": "uL0zEUvB4UFL"
      },
      "execution_count": null,
      "outputs": []
    },
    {
      "cell_type": "code",
      "source": [
        "logistic_cred.coef_"
      ],
      "metadata": {
        "id": "q385YBN94ZW4"
      },
      "execution_count": null,
      "outputs": []
    },
    {
      "cell_type": "code",
      "source": [
        "previews = logistic_cred.predict(X_cred_test)"
      ],
      "metadata": {
        "id": "4B5w7Mcq4h1A"
      },
      "execution_count": 133,
      "outputs": []
    },
    {
      "cell_type": "code",
      "source": [
        "accuracy_score(Y_cred_test,previews)"
      ],
      "metadata": {
        "colab": {
          "base_uri": "https://localhost:8080/"
        },
        "id": "a_ZRAKBR4vqh",
        "outputId": "2d966468-167e-482b-a357-4c31b5de9de5"
      },
      "execution_count": 134,
      "outputs": [
        {
          "output_type": "execute_result",
          "data": {
            "text/plain": [
              "0.9324154025670945"
            ]
          },
          "metadata": {},
          "execution_count": 134
        }
      ]
    },
    {
      "cell_type": "code",
      "source": [
        "print(classification_report(Y_cred_test,previews))"
      ],
      "metadata": {
        "colab": {
          "base_uri": "https://localhost:8080/"
        },
        "id": "cNX8zI5l47Xz",
        "outputId": "73a24f23-7300-4e43-8c5c-3a37dae31e46"
      },
      "execution_count": 135,
      "outputs": [
        {
          "output_type": "stream",
          "name": "stdout",
          "text": [
            "              precision    recall  f1-score   support\n",
            "\n",
            "           0       0.93      1.00      0.96     19956\n",
            "           1       0.61      0.04      0.07      1469\n",
            "\n",
            "    accuracy                           0.93     21425\n",
            "   macro avg       0.77      0.52      0.52     21425\n",
            "weighted avg       0.91      0.93      0.90     21425\n",
            "\n"
          ]
        }
      ]
    },
    {
      "cell_type": "code",
      "source": [
        "# cm = ConfusionMatrix(random_forest_cred)\n",
        "# cm.fit(X_cred_train,Y_cred_train)\n",
        "# cm.score(X_cred_test,Y_cred_test)\n",
        "plot_roc_curve(logistic_cred,X_cred_test,Y_cred_test)"
      ],
      "metadata": {
        "id": "KdmkOD8Y5EyA",
        "colab": {
          "base_uri": "https://localhost:8080/",
          "height": 387
        },
        "outputId": "c4355b02-ac91-4a9b-8c22-8d77bc70cef2"
      },
      "execution_count": 136,
      "outputs": [
        {
          "output_type": "execute_result",
          "data": {
            "text/plain": [
              "<sklearn.metrics._plot.roc_curve.RocCurveDisplay at 0x7fbb6a6bb820>"
            ]
          },
          "metadata": {},
          "execution_count": 136
        },
        {
          "output_type": "display_data",
          "data": {
            "text/plain": [
              "<Figure size 576x396 with 1 Axes>"
            ],
            "image/png": "[encoded data removed]"
          },
          "metadata": {}
        }
      ]
    },
    {
      "cell_type": "markdown",
      "source": [
        "## Tunning de modelos e Validação Cruzada"
      ],
      "metadata": {
        "id": "hTDMHMkB26oF"
      }
    },
    {
      "cell_type": "code",
      "source": [
        "with open('cred_score_variables.pkl','rb') as f:\n",
        "  X_cred_train, X_cred_test, Y_cred_train, Y_cred_test = pickle.load(f)"
      ],
      "metadata": {
        "id": "scZP1VLv3Eb4"
      },
      "execution_count": 6,
      "outputs": []
    },
    {
      "cell_type": "code",
      "source": [
        "X_cred = np.concatenate((X_cred_train,X_cred_test),axis = 0)\n",
        "Y_cred = np.concatenate((Y_cred_train,Y_cred_test),axis = 0)\n",
        "#Concatenando novamente toda base de dados, já padronizada, de modo a ser utilizada na CV"
      ],
      "metadata": {
        "id": "r829nPWs3WFr"
      },
      "execution_count": 7,
      "outputs": []
    },
    {
      "cell_type": "markdown",
      "source": [
        "**Random Forest**"
      ],
      "metadata": {
        "id": "E80gPnel4SGO"
      }
    },
    {
      "cell_type": "code",
      "source": [
        "parameters = {'criterion':['gini','entropy'],\n",
        "              'n_estimators':[10,40,80,100,150],\n",
        "              'min_samples_split':[2, 5, 10],\n",
        "              'min_samples_leaf':[1, 5, 10]}"
      ],
      "metadata": {
        "id": "ywLNoSoC3V1V"
      },
      "execution_count": null,
      "outputs": []
    },
    {
      "cell_type": "code",
      "source": [
        "grid_search = GridSearchCV(estimator=RandomForestClassifier(), param_grid=parameters)\n",
        "grid_search.fit(X_cred,Y_cred)\n",
        "best_parameters = grid_search.best_params_\n",
        "best_result = grid_search.best_score_\n",
        "print(best_parameters)\n",
        "print(best_result)"
      ],
      "metadata": {
        "colab": {
          "base_uri": "https://localhost:8080/"
        },
        "id": "bVZ2p78Q8PKF",
        "outputId": "f8fafa0a-72e0-41c3-b9ed-3dc823484192"
      },
      "execution_count": null,
      "outputs": [
        {
          "output_type": "stream",
          "name": "stdout",
          "text": [
            "{'criterion': 'gini', 'min_samples_leaf': 10, 'min_samples_split': 10, 'n_estimators': 150}\n",
            "0.9365670579151789\n"
          ]
        }
      ]
    },
    {
      "cell_type": "markdown",
      "source": [
        "**Decision Tree**"
      ],
      "metadata": {
        "id": "6iLGAEcZAW1r"
      }
    },
    {
      "cell_type": "code",
      "source": [
        "parameters = {'criterion':['gini','entropy'],\n",
        "              'splitter':['best','random'],\n",
        "              'min_samples_split':[2, 5, 10],\n",
        "              'min_samples_leaf':[1, 5, 10]}"
      ],
      "metadata": {
        "id": "pnax6zkUAcW8"
      },
      "execution_count": null,
      "outputs": []
    },
    {
      "cell_type": "code",
      "source": [
        "grid_search = GridSearchCV(estimator=DecisionTreeClassifier(), param_grid=parameters)\n",
        "grid_search.fit(X_cred,Y_cred)\n",
        "best_parameters = grid_search.best_params_\n",
        "best_result = grid_search.best_score_\n",
        "print(best_parameters)\n",
        "print(best_result)"
      ],
      "metadata": {
        "colab": {
          "base_uri": "https://localhost:8080/"
        },
        "id": "SfGLy-g7AcBg",
        "outputId": "b3010be4-56f0-4d37-c84e-b141d54f0d3c"
      },
      "execution_count": null,
      "outputs": [
        {
          "output_type": "stream",
          "name": "stdout",
          "text": [
            "{'criterion': 'gini', 'min_samples_leaf': 10, 'min_samples_split': 10, 'splitter': 'random'}\n",
            "0.9338318221072693\n"
          ]
        }
      ]
    },
    {
      "cell_type": "markdown",
      "source": [
        "**Logistic Regression**"
      ],
      "metadata": {
        "id": "8pWRrI1KCBhu"
      }
    },
    {
      "cell_type": "code",
      "source": [
        "parameters = {'tol':[0.0001, 0.00001, 0.000001],\n",
        "              'C':[1.0, 1.5, 2.0],\n",
        "              'solver':['lbfgs','sag','saga']}"
      ],
      "metadata": {
        "id": "eg0KBRfLAb1b"
      },
      "execution_count": 4,
      "outputs": []
    },
    {
      "cell_type": "code",
      "source": [
        "grid_search = GridSearchCV(estimator=LogisticRegression(), param_grid=parameters)\n",
        "grid_search.fit(X_cred,Y_cred)\n",
        "best_parameters = grid_search.best_params_\n",
        "best_result = grid_search.best_score_\n",
        "print(best_parameters)\n",
        "print(best_result)"
      ],
      "metadata": {
        "colab": {
          "base_uri": "https://localhost:8080/"
        },
        "id": "OLdJ3qZ3DQZ3",
        "outputId": "b28af144-28d3-480e-d37d-588b459aa467"
      },
      "execution_count": 8,
      "outputs": [
        {
          "output_type": "stream",
          "name": "stdout",
          "text": [
            "{'C': 2.0, 'solver': 'lbfgs', 'tol': 0.0001}\n",
            "0.9336357876922727\n"
          ]
        }
      ]
    },
    {
      "cell_type": "markdown",
      "source": [
        "***Cross Validation***"
      ],
      "metadata": {
        "id": "eoEseqdRHnHL"
      }
    },
    {
      "cell_type": "code",
      "source": [
        "# kfold = StratifiedKFold(n_splits=10, shuffle=True, random_state=0)\n",
        "# #utilizado o StratifieldKfold devido ao desbalanceamento das classes de saída,pois ele \n",
        "\n",
        "# tree = DecisionTreeClassifier(criterion='gini', min_samples_leaf=10, min_samples_split=10, splitter='random')\n",
        "# scores = cross_val_score(tree, X_cred, Y_cred, cv=kfold)\n",
        "# results_tree = scores.mean()\n",
        "\n",
        "# ##\n",
        "\n",
        "# random_forest = RandomForestClassifier(criterion='gini', min_samples_leaf=10, min_samples_split=10, n_estimators=150)\n",
        "# scores = cross_val_score(random_forest, X_cred, Y_cred, cv=kfold)\n",
        "# results_random_forest = scores.mean()\n",
        "\n",
        "# ##\n",
        "\n",
        "# logistic = LogisticRegression(C=2.0, solver = 'lbfgs', tol = 0.0001)\n",
        "# scores = cross_val_score(logistic, X_cred, Y_cred, cv=kfold)\n",
        "# results_logistic = scores.mean()"
      ],
      "metadata": {
        "id": "LAnEvzsKHp33"
      },
      "execution_count": 57,
      "outputs": []
    },
    {
      "cell_type": "code",
      "source": [
        "#results_tree, results_random_forest, results_logistic"
      ],
      "metadata": {
        "id": "zzFQkwCuVLnu"
      },
      "execution_count": null,
      "outputs": []
    },
    {
      "cell_type": "markdown",
      "source": [
        "De acordo com os testes realizados com CV e GridSearch, confirmamos que o melhor algoritmo a utilzar neste caso é **RANDOM FOREST**"
      ],
      "metadata": {
        "id": "XUO-3UXIWNTh"
      }
    },
    {
      "cell_type": "markdown",
      "source": [
        "## FINALIZANDO O MODELO"
      ],
      "metadata": {
        "id": "UQbnWy0Hf_bV"
      }
    },
    {
      "cell_type": "markdown",
      "source": [
        "UTILIZANDO CV DEFINIR OS GRUPOS DE TREINAMENTO E DE TEST"
      ],
      "metadata": {
        "id": "DxFQz4-RrrtM"
      }
    },
    {
      "cell_type": "code",
      "source": [
        "# random_forest = RandomForestClassifier(criterion='gini', min_samples_leaf=10, min_samples_split=10, n_estimators=150)\n",
        "# random_forest.fit(X_cred,Y_cred)\n",
        "# results_random_forest = cross_val_predict(random_forest, X_cred, Y_cred, cv=kfold)\n",
        "# #scores = cross_val_score(logistic, X_cred, Y_cred, cv=kfold)\n",
        "# #results_random_forest_mean = scores.mean()"
      ],
      "metadata": {
        "id": "Rc2KvB5OgFZr"
      },
      "execution_count": 106,
      "outputs": []
    },
    {
      "cell_type": "code",
      "source": [
        "# #print(results_random_forest_mean)\n",
        "# print('\\n',accuracy_score(Y_cred, results_random_forest))\n",
        "# print('\\n',classification_report(Y_cred, results_random_forest))\n"
      ],
      "metadata": {
        "id": "27ym96mVkCIa"
      },
      "execution_count": null,
      "outputs": []
    },
    {
      "cell_type": "markdown",
      "source": [
        "UTILIZANDO PROPORCAO 80/20 PARA treino E test, RESPECTIVAMENTE"
      ],
      "metadata": {
        "id": "pLGLBFnTryTj"
      }
    },
    {
      "cell_type": "code",
      "source": [
        "with open('cred_score_variables.pkl','rb') as f:\n",
        "  X_cred_train, X_cred_test, Y_cred_train, Y_cred_test = pickle.load(f)\n",
        "\n",
        "#treinando o algoritmo com os melhores parametros obtidos através do GridSearch\n",
        "random_forest_cred = RandomForestClassifier(criterion='gini', min_samples_leaf=10, min_samples_split=10, n_estimators=150)\n",
        "random_forest_cred.fit(X_cred_train,Y_cred_train)\n",
        "\n",
        "previews = random_forest_cred.predict(X_cred_test)\n",
        "accuracy_score(Y_cred_test,previews)"
      ],
      "metadata": {
        "colab": {
          "base_uri": "https://localhost:8080/"
        },
        "id": "eGnk5M1lrpoM",
        "outputId": "bc314971-3d68-49f9-cf68-e726613718d7"
      },
      "execution_count": 48,
      "outputs": [
        {
          "output_type": "execute_result",
          "data": {
            "text/plain": [
              "0.9345157526254376"
            ]
          },
          "metadata": {},
          "execution_count": 48
        }
      ]
    },
    {
      "cell_type": "code",
      "source": [
        "print(classification_report(Y_cred_test,previews))"
      ],
      "metadata": {
        "colab": {
          "base_uri": "https://localhost:8080/"
        },
        "id": "uo-L2017s21s",
        "outputId": "a31b7078-e949-40b9-f30e-cc69decac90e"
      },
      "execution_count": 50,
      "outputs": [
        {
          "output_type": "stream",
          "name": "stdout",
          "text": [
            "              precision    recall  f1-score   support\n",
            "\n",
            "           0       0.94      0.99      0.97     19956\n",
            "           1       0.59      0.15      0.24      1469\n",
            "\n",
            "    accuracy                           0.93     21425\n",
            "   macro avg       0.76      0.57      0.60     21425\n",
            "weighted avg       0.92      0.93      0.92     21425\n",
            "\n"
          ]
        }
      ]
    },
    {
      "cell_type": "code",
      "source": [
        "previews"
      ],
      "metadata": {
        "colab": {
          "base_uri": "https://localhost:8080/"
        },
        "id": "WXKvHxGxRwWQ",
        "outputId": "6d3d58f1-be6b-441f-f4a7-4301573281b6"
      },
      "execution_count": 108,
      "outputs": [
        {
          "output_type": "execute_result",
          "data": {
            "text/plain": [
              "array([0, 0, 0, ..., 0, 0, 0])"
            ]
          },
          "metadata": {},
          "execution_count": 108
        }
      ]
    },
    {
      "cell_type": "code",
      "source": [
        "plot_roc_curve(random_forest_cred,X_cred_test,Y_cred_test)"
      ],
      "metadata": {
        "id": "Nnsv_J9mtnHv"
      },
      "execution_count": null,
      "outputs": []
    },
    {
      "cell_type": "markdown",
      "source": [
        "**Testando o modelo com TEST.CSV**\n"
      ],
      "metadata": {
        "id": "qvWEWL5I4NjQ"
      }
    },
    {
      "cell_type": "code",
      "source": [],
      "metadata": {
        "id": "vUZ2INLxabDA"
      },
      "execution_count": null,
      "outputs": []
    },
    {
      "cell_type": "code",
      "source": [
        "cred_score_teste = pd.read_csv('/content/teste.csv')"
      ],
      "metadata": {
        "id": "yJYkweXu_qNe"
      },
      "execution_count": 89,
      "outputs": []
    },
    {
      "cell_type": "code",
      "source": [
        "cred_score_teste.describe()"
      ],
      "metadata": {
        "id": "EE4BqLHm4Whw"
      },
      "execution_count": null,
      "outputs": []
    },
    {
      "cell_type": "code",
      "source": [
        "cred_score_teste.isnull().sum()"
      ],
      "metadata": {
        "colab": {
          "base_uri": "https://localhost:8080/"
        },
        "id": "ZIaT9nug_KqY",
        "outputId": "fe1c996c-427a-4336-dad6-f791fefd7b55"
      },
      "execution_count": 93,
      "outputs": [
        {
          "output_type": "execute_result",
          "data": {
            "text/plain": [
              "util_linhas_inseguras                    0\n",
              "idade                                    0\n",
              "vezes_passou_de_30_59_dias               0\n",
              "razao_debito                             0\n",
              "salario_mensal                           0\n",
              "numero_linhas_crdto_aberto               0\n",
              "numero_vezes_passou_90_dias              0\n",
              "numero_emprestimos_imobiliarios          0\n",
              "numero_de_vezes_que_passou_60_89_dias    0\n",
              "numero_de_dependentes                    0\n",
              "dtype: int64"
            ]
          },
          "metadata": {},
          "execution_count": 93
        }
      ]
    },
    {
      "cell_type": "code",
      "source": [
        "cred_score_teste.dropna(subset =['numero_de_dependentes'] , inplace = True)\n",
        "mediana = cred_score_teste['salario_mensal'].median()\n",
        "cred_score_teste['salario_mensal'].fillna(value=mediana, inplace = True)"
      ],
      "metadata": {
        "id": "NvyO6MXB_YCu"
      },
      "execution_count": 92,
      "outputs": []
    },
    {
      "cell_type": "code",
      "source": [
        "cred_score_train.describe()"
      ],
      "metadata": {
        "id": "6Jyxp2U37j0n"
      },
      "execution_count": null,
      "outputs": []
    },
    {
      "cell_type": "code",
      "source": [
        "X_cred_teste = cred_score_teste.iloc[:,:].values"
      ],
      "metadata": {
        "id": "_6ZggIdj6-ro"
      },
      "execution_count": 95,
      "outputs": []
    },
    {
      "cell_type": "code",
      "source": [
        "scaler_cred = StandardScaler()\n",
        "X_cred_teste = scaler_cred.fit_transform(X_cred_teste)"
      ],
      "metadata": {
        "id": "lqy9YFpF7IS-"
      },
      "execution_count": 96,
      "outputs": []
    },
    {
      "cell_type": "code",
      "source": [
        "previsoes = random_forest_cred.predict(X_cred_teste)"
      ],
      "metadata": {
        "id": "WOw938g878l2"
      },
      "execution_count": 102,
      "outputs": []
    },
    {
      "cell_type": "code",
      "source": [
        "cred_score_teste['inadimplente'] = previsoes"
      ],
      "metadata": {
        "id": "j-Xvo16M_6zl"
      },
      "execution_count": 103,
      "outputs": []
    },
    {
      "cell_type": "code",
      "source": [
        "cred_score_teste.describe()"
      ],
      "metadata": {
        "colab": {
          "base_uri": "https://localhost:8080/",
          "height": 364
        },
        "id": "rBF-9j5oAGBu",
        "outputId": "cfb14da1-b77d-4640-ea1c-cc5b5304445b"
      },
      "execution_count": 104,
      "outputs": [
        {
          "output_type": "execute_result",
          "data": {
            "text/plain": [
              "       util_linhas_inseguras     idade  vezes_passou_de_30_59_dias  \\\n",
              "count              38,954.00 38,954.00                   38,954.00   \n",
              "mean                    6.42     52.22                        0.40   \n",
              "std                   245.27     14.63                        3.90   \n",
              "min                     0.00     21.00                        0.00   \n",
              "25%                     0.03     41.00                        0.00   \n",
              "50%                     0.15     52.00                        0.00   \n",
              "75%                     0.56     62.00                        0.00   \n",
              "max                22,000.00    103.00                       98.00   \n",
              "\n",
              "       razao_debito  salario_mensal  numero_linhas_crdto_aberto  \\\n",
              "count     38,954.00       38,954.00                   38,954.00   \n",
              "mean         328.65        6,520.52                        8.55   \n",
              "std        1,939.45       15,276.08                        5.17   \n",
              "min            0.00            0.00                        0.00   \n",
              "25%            0.17        3,817.25                        5.00   \n",
              "50%            0.36        5,409.50                        8.00   \n",
              "75%            0.77        7,500.00                       11.00   \n",
              "max      307,001.00    1,794,060.00                       57.00   \n",
              "\n",
              "       numero_vezes_passou_90_dias  numero_emprestimos_imobiliarios  \\\n",
              "count                    38,954.00                        38,954.00   \n",
              "mean                          0.24                             1.02   \n",
              "std                           3.87                             1.12   \n",
              "min                           0.00                             0.00   \n",
              "25%                           0.00                             0.00   \n",
              "50%                           0.00                             1.00   \n",
              "75%                           0.00                             2.00   \n",
              "max                          98.00                            25.00   \n",
              "\n",
              "       numero_de_vezes_que_passou_60_89_dias  numero_de_dependentes  \\\n",
              "count                              38,954.00              38,954.00   \n",
              "mean                                    0.22                   0.76   \n",
              "std                                     3.85                   1.12   \n",
              "min                                     0.00                   0.00   \n",
              "25%                                     0.00                   0.00   \n",
              "50%                                     0.00                   0.00   \n",
              "75%                                     0.00                   1.00   \n",
              "max                                    98.00                  13.00   \n",
              "\n",
              "       inadimplente  \n",
              "count     38,954.00  \n",
              "mean           0.01  \n",
              "std            0.09  \n",
              "min            0.00  \n",
              "25%            0.00  \n",
              "50%            0.00  \n",
              "75%            0.00  \n",
              "max            1.00  "
            ],
            "text/html": [
              "\n",
              "  <div id=\"df-e83b3de6-2f6a-4c56-ac23-dba83218c8d7\">\n",
              "    <div class=\"colab-df-container\">\n",
              "      <div>\n",
              "<style scoped>\n",
              "    .dataframe tbody tr th:only-of-type {\n",
              "        vertical-align: middle;\n",
              "    }\n",
              "\n",
              "    .dataframe tbody tr th {\n",
              "        vertical-align: top;\n",
              "    }\n",
              "\n",
              "    .dataframe thead th {\n",
              "        text-align: right;\n",
              "    }\n",
              "</style>\n",
              "<table border=\"1\" class=\"dataframe\">\n",
              "  <thead>\n",
              "    <tr style=\"text-align: right;\">\n",
              "      <th></th>\n",
              "      <th>util_linhas_inseguras</th>\n",
              "      <th>idade</th>\n",
              "      <th>vezes_passou_de_30_59_dias</th>\n",
              "      <th>razao_debito</th>\n",
              "      <th>salario_mensal</th>\n",
              "      <th>numero_linhas_crdto_aberto</th>\n",
              "      <th>numero_vezes_passou_90_dias</th>\n",
              "      <th>numero_emprestimos_imobiliarios</th>\n",
              "      <th>numero_de_vezes_que_passou_60_89_dias</th>\n",
              "      <th>numero_de_dependentes</th>\n",
              "      <th>inadimplente</th>\n",
              "    </tr>\n",
              "  </thead>\n",
              "  <tbody>\n",
              "    <tr>\n",
              "      <th>count</th>\n",
              "      <td>38,954.00</td>\n",
              "      <td>38,954.00</td>\n",
              "      <td>38,954.00</td>\n",
              "      <td>38,954.00</td>\n",
              "      <td>38,954.00</td>\n",
              "      <td>38,954.00</td>\n",
              "      <td>38,954.00</td>\n",
              "      <td>38,954.00</td>\n",
              "      <td>38,954.00</td>\n",
              "      <td>38,954.00</td>\n",
              "      <td>38,954.00</td>\n",
              "    </tr>\n",
              "    <tr>\n",
              "      <th>mean</th>\n",
              "      <td>6.42</td>\n",
              "      <td>52.22</td>\n",
              "      <td>0.40</td>\n",
              "      <td>328.65</td>\n",
              "      <td>6,520.52</td>\n",
              "      <td>8.55</td>\n",
              "      <td>0.24</td>\n",
              "      <td>1.02</td>\n",
              "      <td>0.22</td>\n",
              "      <td>0.76</td>\n",
              "      <td>0.01</td>\n",
              "    </tr>\n",
              "    <tr>\n",
              "      <th>std</th>\n",
              "      <td>245.27</td>\n",
              "      <td>14.63</td>\n",
              "      <td>3.90</td>\n",
              "      <td>1,939.45</td>\n",
              "      <td>15,276.08</td>\n",
              "      <td>5.17</td>\n",
              "      <td>3.87</td>\n",
              "      <td>1.12</td>\n",
              "      <td>3.85</td>\n",
              "      <td>1.12</td>\n",
              "      <td>0.09</td>\n",
              "    </tr>\n",
              "    <tr>\n",
              "      <th>min</th>\n",
              "      <td>0.00</td>\n",
              "      <td>21.00</td>\n",
              "      <td>0.00</td>\n",
              "      <td>0.00</td>\n",
              "      <td>0.00</td>\n",
              "      <td>0.00</td>\n",
              "      <td>0.00</td>\n",
              "      <td>0.00</td>\n",
              "      <td>0.00</td>\n",
              "      <td>0.00</td>\n",
              "      <td>0.00</td>\n",
              "    </tr>\n",
              "    <tr>\n",
              "      <th>25%</th>\n",
              "      <td>0.03</td>\n",
              "      <td>41.00</td>\n",
              "      <td>0.00</td>\n",
              "      <td>0.17</td>\n",
              "      <td>3,817.25</td>\n",
              "      <td>5.00</td>\n",
              "      <td>0.00</td>\n",
              "      <td>0.00</td>\n",
              "      <td>0.00</td>\n",
              "      <td>0.00</td>\n",
              "      <td>0.00</td>\n",
              "    </tr>\n",
              "    <tr>\n",
              "      <th>50%</th>\n",
              "      <td>0.15</td>\n",
              "      <td>52.00</td>\n",
              "      <td>0.00</td>\n",
              "      <td>0.36</td>\n",
              "      <td>5,409.50</td>\n",
              "      <td>8.00</td>\n",
              "      <td>0.00</td>\n",
              "      <td>1.00</td>\n",
              "      <td>0.00</td>\n",
              "      <td>0.00</td>\n",
              "      <td>0.00</td>\n",
              "    </tr>\n",
              "    <tr>\n",
              "      <th>75%</th>\n",
              "      <td>0.56</td>\n",
              "      <td>62.00</td>\n",
              "      <td>0.00</td>\n",
              "      <td>0.77</td>\n",
              "      <td>7,500.00</td>\n",
              "      <td>11.00</td>\n",
              "      <td>0.00</td>\n",
              "      <td>2.00</td>\n",
              "      <td>0.00</td>\n",
              "      <td>1.00</td>\n",
              "      <td>0.00</td>\n",
              "    </tr>\n",
              "    <tr>\n",
              "      <th>max</th>\n",
              "      <td>22,000.00</td>\n",
              "      <td>103.00</td>\n",
              "      <td>98.00</td>\n",
              "      <td>307,001.00</td>\n",
              "      <td>1,794,060.00</td>\n",
              "      <td>57.00</td>\n",
              "      <td>98.00</td>\n",
              "      <td>25.00</td>\n",
              "      <td>98.00</td>\n",
              "      <td>13.00</td>\n",
              "      <td>1.00</td>\n",
              "    </tr>\n",
              "  </tbody>\n",
              "</table>\n",
              "</div>\n",
              "      <button class=\"colab-df-convert\" onclick=\"convertToInteractive('df-e83b3de6-2f6a-4c56-ac23-dba83218c8d7')\"\n",
              "              title=\"Convert this dataframe to an interactive table.\"\n",
              "              style=\"display:none;\">\n",
              "        \n",
              "  <svg xmlns=\"http://www.w3.org/2000/svg\" height=\"24px\"viewBox=\"0 0 24 24\"\n",
              "       width=\"24px\">\n",
              "    <path d=\"M0 0h24v24H0V0z\" fill=\"none\"/>\n",
              "    <path d=\"M18.56 5.44l.94 2.06.94-2.06 2.06-.94-2.06-.94-.94-2.06-.94 2.06-2.06.94zm-11 1L8.5 8.5l.94-2.06 2.06-.94-2.06-.94L8.5 2.5l-.94 2.06-2.06.94zm10 10l.94 2.06.94-2.06 2.06-.94-2.06-.94-.94-2.06-.94 2.06-2.06.94z\"/><path d=\"M17.41 7.96l-1.37-1.37c-.4-.4-.92-.59-1.43-.59-.52 0-1.04.2-1.43.59L10.3 9.45l-7.72 7.72c-.78.78-.78 2.05 0 2.83L4 21.41c.39.39.9.59 1.41.59.51 0 1.02-.2 1.41-.59l7.78-7.78 2.81-2.81c.8-.78.8-2.07 0-2.86zM5.41 20L4 18.59l7.72-7.72 1.47 1.35L5.41 20z\"/>\n",
              "  </svg>\n",
              "      </button>\n",
              "      \n",
              "  <style>\n",
              "    .colab-df-container {\n",
              "      display:flex;\n",
              "      flex-wrap:wrap;\n",
              "      gap: 12px;\n",
              "    }\n",
              "\n",
              "    .colab-df-convert {\n",
              "      background-color: #E8F0FE;\n",
              "      border: none;\n",
              "      border-radius: 50%;\n",
              "      cursor: pointer;\n",
              "      display: none;\n",
              "      fill: #1967D2;\n",
              "      height: 32px;\n",
              "      padding: 0 0 0 0;\n",
              "      width: 32px;\n",
              "    }\n",
              "\n",
              "    .colab-df-convert:hover {\n",
              "      background-color: #E2EBFA;\n",
              "      box-shadow: 0px 1px 2px rgba(60, 64, 67, 0.3), 0px 1px 3px 1px rgba(60, 64, 67, 0.15);\n",
              "      fill: #174EA6;\n",
              "    }\n",
              "\n",
              "    [theme=dark] .colab-df-convert {\n",
              "      background-color: #3B4455;\n",
              "      fill: #D2E3FC;\n",
              "    }\n",
              "\n",
              "    [theme=dark] .colab-df-convert:hover {\n",
              "      background-color: #434B5C;\n",
              "      box-shadow: 0px 1px 3px 1px rgba(0, 0, 0, 0.15);\n",
              "      filter: drop-shadow(0px 1px 2px rgba(0, 0, 0, 0.3));\n",
              "      fill: #FFFFFF;\n",
              "    }\n",
              "  </style>\n",
              "\n",
              "      <script>\n",
              "        const buttonEl =\n",
              "          document.querySelector('#df-e83b3de6-2f6a-4c56-ac23-dba83218c8d7 button.colab-df-convert');\n",
              "        buttonEl.style.display =\n",
              "          google.colab.kernel.accessAllowed ? 'block' : 'none';\n",
              "\n",
              "        async function convertToInteractive(key) {\n",
              "          const element = document.querySelector('#df-e83b3de6-2f6a-4c56-ac23-dba83218c8d7');\n",
              "          const dataTable =\n",
              "            await google.colab.kernel.invokeFunction('convertToInteractive',\n",
              "                                                     [key], {});\n",
              "          if (!dataTable) return;\n",
              "\n",
              "          const docLinkHtml = 'Like what you see? Visit the ' +\n",
              "            '<a target=\"_blank\" href=https://colab.research.google.com/notebooks/data_table.ipynb>data table notebook</a>'\n",
              "            + ' to learn more about interactive tables.';\n",
              "          element.innerHTML = '';\n",
              "          dataTable['output_type'] = 'display_data';\n",
              "          await google.colab.output.renderOutput(dataTable, element);\n",
              "          const docLink = document.createElement('div');\n",
              "          docLink.innerHTML = docLinkHtml;\n",
              "          element.appendChild(docLink);\n",
              "        }\n",
              "      </script>\n",
              "    </div>\n",
              "  </div>\n",
              "  "
            ]
          },
          "metadata": {},
          "execution_count": 104
        }
      ]
    },
    {
      "cell_type": "code",
      "source": [
        "np.unique(cred_score_teste['inadimplente'],return_counts=True)"
      ],
      "metadata": {
        "colab": {
          "base_uri": "https://localhost:8080/"
        },
        "id": "6geDNOJ_AQOu",
        "outputId": "96bea4d2-5793-46b4-93a9-54af932bcce3"
      },
      "execution_count": 105,
      "outputs": [
        {
          "output_type": "execute_result",
          "data": {
            "text/plain": [
              "(array([0, 1]), array([38611,   343]))"
            ]
          },
          "metadata": {},
          "execution_count": 105
        }
      ]
    }
  ]
}